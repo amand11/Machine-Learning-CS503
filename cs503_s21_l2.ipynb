{
  "nbformat": 4,
  "nbformat_minor": 0,
  "metadata": {
    "colab": {
      "name": "cs503-s21-l2.ipynb",
      "provenance": [],
      "collapsed_sections": []
    },
    "kernelspec": {
      "name": "python3",
      "display_name": "Python 3"
    }
  },
  "cells": [
    {
      "cell_type": "markdown",
      "metadata": {
        "id": "fWS0wOM7XMzN"
      },
      "source": [
        "# Lab 2 : Decision Trees, Forests and Logistic Regression\n",
        "\n",
        "---\n",
        "\n",
        "\n",
        "Total Points: **50**\n",
        "\n",
        "Tentative Weightage : **5%**\n",
        "\n",
        "Submission Deadline :  **5th March 2021, 23:59 hours**\n",
        "\n",
        "---\n",
        "\n",
        "\n",
        "\n",
        "General Instructions:\n",
        "\n",
        "---\n",
        "\n",
        "\n",
        "\n",
        "1. You have to do this lab individually\n",
        "2. You may use **sklearn, seaborn, matplotlib, pandas, Tensorflow 2.x or PyTorch**\n",
        "3. All the code should be submitted in the form of a single Jupyter notebook itself.\n",
        "4. Points for each sub-section are mentioned in the appropriate question.\n",
        "5. You can use Google colab to run a jupyter notebook (https://colab.research.google.com/) How to load data in Google Colab ?(https://towardsdatascience.com/3-ways-to-load-csv-files-into-colab-7c14fcbdcb92) (https://www.marktechpost.com/2019/06/07/how-to-connect-google-colab-with-google-drive/)\n",
        "6. The lab must be submitted on Google classroom. The code as well as the accompanying observations should be made part of the python notebook.\n",
        "7. **Code Readability** is very important. Modularize your code by making use of classes, functions that can be flexibly reused wherever necessary. Also use self explanatory variable names and add comments to describe your approach wherever necessary. You may add additional code or text blocks as necessary.\n",
        "8. You are expected to submit your **inferences** (preferably in a text block) and not just an error free code.\n",
        "9. Students are expected to follow the **honor code** of the class.\n",
        "10. In case of any queries regarding Lab 2, please mail 2017csz0005@iitrpr.ac.in\n"
      ]
    },
    {
      "cell_type": "markdown",
      "metadata": {
        "id": "HDTGm48_VMFG"
      },
      "source": [
        "# Dataset\n",
        "\n",
        "###About the Dataset\n",
        "A malware classifier dataset built with header fields’ values of portable executable files. You can read more about the dataset [here](https://www.kaggle.com/saurabhshahane/classification-of-malwares) \n",
        "\n",
        "\n",
        "###Tasks on Dataset Exploration\n",
        "\n",
        "\n",
        "---\n",
        "\n",
        "\n",
        "Total for this subsection : **5 points**\n",
        "\n",
        "\n",
        "---\n",
        "\n",
        "\n",
        "1. Download and extract the 'Malwares' dataset from this [link](https://www.kaggle.com/saurabhshahane/classification-of-malwares) \n",
        "2. Take a look at the downloaded dataset and explore the various columns/headers present in the dataset. **Note: You are to use the *raw* file throughout this assignment and not the intergrated* one**.   \n",
        "3. Load the dataset using the pandas library. You can refer to the [pandas documentation](https://pandas.pydata.org/pandas-docs/stable/reference/io.html). (**1 point**)\n",
        "4. Report the total number of samples and the total number of columns in the dataset. (**1 point**)\n",
        "5. Evaluate the dataset and drop data which hash 'NA' values. Now report the total number of samples and the total number of columns in the dataset. (**1 point**)\n",
        "6. Plot a bar chart showing the number of samples with the malware present and not present. (**1 point**)\n",
        "7. Split the dataset into Train and Test sets in a 80:20 ratio. (**1 point**)"
      ]
    },
    {
      "cell_type": "code",
      "metadata": {
        "id": "mBdQr2QdVP42"
      },
      "source": [
        "# Perform the necessary imports here\r\n",
        "import numpy as np\r\n",
        "import pandas as pd\r\n",
        "import matplotlib.pyplot as plt\r\n",
        "from sklearn.metrics import accuracy_score\r\n",
        "from sklearn.model_selection import train_test_split\r\n",
        "from sklearn import tree\r\n",
        "from sklearn.ensemble import RandomForestClassifier\r\n",
        "from sklearn.linear_model import LogisticRegression"
      ],
      "execution_count": 93,
      "outputs": []
    },
    {
      "cell_type": "code",
      "metadata": {
        "id": "9YIwn_zXsFw3"
      },
      "source": [
        "# To access files stored in Google Drive, following block import is used\r\n",
        "# If using on a local system, please comment the lines below in this code block\r\n",
        "\r\n",
        "# from google.colab import drive\r\n",
        "# drive.mount('/content/MyDrive', force_remount = True)"
      ],
      "execution_count": 94,
      "outputs": []
    },
    {
      "cell_type": "code",
      "metadata": {
        "id": "eWD3SwxEwERo"
      },
      "source": [
        "# Please provide the path where ClaMP_Raw-5184.csv has been stored \r\n",
        "# csv_file_path = \"\"\""
      ],
      "execution_count": 95,
      "outputs": []
    },
    {
      "cell_type": "markdown",
      "metadata": {
        "id": "8uPTS_cLYy_T"
      },
      "source": [
        "I am using local system for storing dataset.\n",
        "So user need to store ClaMP-Raw-5184.csv file in the Files with the Notebook."
      ]
    },
    {
      "cell_type": "code",
      "metadata": {
        "id": "sSWjiN6mxJ9P"
      },
      "source": [
        "# Load the data from csv file into a data frame (1 point)\r\n",
        "# Please insert your code here\r\n",
        "# data = pd.read_csv(csv_file_path)\r\n",
        "\r\n",
        "# downloaded = drive.CreateFile({'id': '1AKSiXCxyRTIYb8CcazK9GW92INWH76j9'}) \r\n",
        "# downloaded.GetContentFile('ClaMP_Raw-5184.csv')  \r\n",
        "\r\n",
        "data = pd.read_csv('ClaMP_Raw-5184.csv')\r\n"
      ],
      "execution_count": 96,
      "outputs": []
    },
    {
      "cell_type": "code",
      "metadata": {
        "id": "3LNFS5IZyn4u",
        "colab": {
          "base_uri": "https://localhost:8080/"
        },
        "outputId": "9a0e318a-7a72-4fca-efa0-155380edb162"
      },
      "source": [
        "# Print the number of instances and attributes in the loaded data frame (1 point)\r\n",
        "# Please insert your code here\r\n",
        "# print(data)\r\n",
        "print(\"Number of Columns/Attributes \",data.columns.size) #shows coulmns(ie attributes) Heading\r\n",
        "print(\"Number of Rows/Instances \",len(data.index)) #Attribute Values"
      ],
      "execution_count": 97,
      "outputs": [
        {
          "output_type": "stream",
          "text": [
            "Number of Columns/Attributes  56\n",
            "Number of Rows/Instances  5184\n"
          ],
          "name": "stdout"
        }
      ]
    },
    {
      "cell_type": "code",
      "metadata": {
        "id": "GKEGqj4z0DTg",
        "colab": {
          "base_uri": "https://localhost:8080/"
        },
        "outputId": "40ca4444-00d6-40f2-b8c9-9006784c1d7e"
      },
      "source": [
        "# Drop the columns with NaN values (0.5 points)\r\n",
        "# Please insert your code here\r\n",
        "df = data.dropna(axis=1, how='any')\r\n",
        "print(df)"
      ],
      "execution_count": 98,
      "outputs": [
        {
          "output_type": "stream",
          "text": [
            "      e_magic  e_cblp  e_cp  ...  LoaderFlags  NumberOfRvaAndSizes  class\n",
            "0       23117     144     3  ...            0                   16      0\n",
            "1       23117     144     3  ...            0                   16      0\n",
            "2       23117     144     3  ...            0                   16      0\n",
            "3       23117     144     3  ...            0                   16      0\n",
            "4       23117     144     3  ...            0                   16      0\n",
            "...       ...     ...   ...  ...          ...                  ...    ...\n",
            "5179    23117     144     3  ...            0                   16      1\n",
            "5180    23117      80     2  ...            0                   16      1\n",
            "5181    23117     144     3  ...            0                   16      1\n",
            "5182    23117     144     3  ...            0                   16      1\n",
            "5183    23117     144     3  ...            0                   16      1\n",
            "\n",
            "[5184 rows x 54 columns]\n"
          ],
          "name": "stdout"
        }
      ]
    },
    {
      "cell_type": "code",
      "metadata": {
        "id": "3mctZKhq0vBd",
        "colab": {
          "base_uri": "https://localhost:8080/"
        },
        "outputId": "68ea6710-cd7a-458c-b673-981f87667819"
      },
      "source": [
        "# Print the number of instances and attributes in the loaded data frame after removal of NaN columns (0.5 points)\r\n",
        "# Please insert your code here\r\n",
        "print(\"Number of Columns/Attributes \",df.columns.size) #shows coulmns(ie attributes) Heading\r\n",
        "print(\"Number of Rows/Instances \",len(df.index)) #Attribute Values\r\n",
        "# print(df.columns)"
      ],
      "execution_count": 99,
      "outputs": [
        {
          "output_type": "stream",
          "text": [
            "Number of Columns/Attributes  54\n",
            "Number of Rows/Instances  5184\n"
          ],
          "name": "stdout"
        }
      ]
    },
    {
      "cell_type": "markdown",
      "metadata": {
        "id": "Ua02NhTFOHn9"
      },
      "source": [
        "2 Columns got Droped that had NaN values. This was done using dropna function of Pandas library."
      ]
    },
    {
      "cell_type": "code",
      "metadata": {
        "id": "sw70-xMCcSP8",
        "colab": {
          "base_uri": "https://localhost:8080/",
          "height": 360
        },
        "outputId": "8276bd2a-232f-48ca-a857-f16fd209d933"
      },
      "source": [
        "# Plot a bar chart showing the number of samples with the malware present and not present (1 point)\r\n",
        "# Please insert your code here\r\n",
        "feat = [\"Malware\", \"Non Malware\"]\r\n",
        "fig, ax = plt.subplots()\r\n",
        "df['class'].value_counts().plot(ax=ax, kind='bar')\r\n",
        "plt.title(\"Bar Chart of Number of Malware\")\r\n",
        "plt.xlabel(feat)\r\n",
        "tmp = df[\"class\"].value_counts()\r\n",
        "print(\"Number of Malware :\", tmp[0])\r\n",
        "print(\"Number of Not-Malware :\", tmp[1])\r\n",
        "print(\"\\n\")"
      ],
      "execution_count": 100,
      "outputs": [
        {
          "output_type": "stream",
          "text": [
            "Number of Malware : 2501\n",
            "Number of Not-Malware : 2683\n",
            "\n",
            "\n"
          ],
          "name": "stdout"
        },
        {
          "output_type": "display_data",
          "data": {
            "image/png": "[encoded data removed]",
            "text/plain": [
              "<Figure size 432x288 with 1 Axes>"
            ]
          },
          "metadata": {
            "tags": [],
            "needs_background": "light"
          }
        }
      ]
    },
    {
      "cell_type": "code",
      "metadata": {
        "id": "jtBY5aQc34N_"
      },
      "source": [
        "#Split the dataset into Train and Test sets in a 80:20 ratio (1 point)\n",
        "# Please insert your code here\n",
        "X = df.iloc[:, :-1]\n",
        "Y = df.iloc[:, -1]\n",
        "trainx, testx, trainy, testy = train_test_split(X, Y, test_size=0.2, random_state=1, shuffle=True)"
      ],
      "execution_count": 101,
      "outputs": []
    },
    {
      "cell_type": "markdown",
      "metadata": {
        "id": "-nx1uP_gZVq5"
      },
      "source": [
        "Spiliting data set using Sklearn library in 80:20(train:test) partion."
      ]
    },
    {
      "cell_type": "markdown",
      "metadata": {
        "id": "xASdpzlrqkbd"
      },
      "source": [
        "# Visualizing a Decision Tree\r\n",
        "\r\n",
        "\r\n",
        "---\r\n",
        "Total for this subsection : **3 points**\r\n",
        "\r\n",
        "\r\n",
        "---\r\n",
        "\r\n",
        "\r\n",
        "\r\n",
        "Learn a decision tree classifier which accomodates at least 1000 samples per leaf node based on the train set. Note that this constraint on number of samples per leaf node is set so that the learned tree can be visualized. The tree learned may not be an optimal. Visualize the decision tree learned with such a constraint."
      ]
    },
    {
      "cell_type": "code",
      "metadata": {
        "id": "ZJOda-CR5GWV",
        "colab": {
          "base_uri": "https://localhost:8080/",
          "height": 248
        },
        "outputId": "88d75a98-911d-4900-fbe7-adfe2d3f4fbe"
      },
      "source": [
        "# Please insert your code here\r\n",
        "# Step 1: Create a decision tree classifier with atleast 1000 samples per leaf node (1 point)\r\n",
        "clasifier = tree.DecisionTreeClassifier(criterion='entropy', splitter='best', min_samples_leaf=1000)\r\n",
        "# Step 2 : Learn the decision tree using the train set (1 point)\r\n",
        "clasifier.fit(trainx, trainy)\r\n",
        "# Step 3 : Plot the decision tree learned (1 point)\r\n",
        "fn = df.columns\r\n",
        "cn = [\"Malware\", \"Not Malware\"]\r\n",
        "tree.plot_tree(clasifier, class_names=cn, feature_names=fn);"
      ],
      "execution_count": 102,
      "outputs": [
        {
          "output_type": "display_data",
          "data": {
            "image/png": "[encoded data removed]",
            "text/plain": [
              "<Figure size 432x288 with 1 Axes>"
            ]
          },
          "metadata": {
            "tags": [],
            "needs_background": "light"
          }
        }
      ]
    },
    {
      "cell_type": "markdown",
      "metadata": {
        "id": "xA40mzE3Qdgx"
      },
      "source": [
        "Decision Tree Classifier with Criterion of Entroy and best spliiter. As specified minimum samples per leaf is 1000. So Depth of Tree has Decreaes. If Dataset is of large size "
      ]
    },
    {
      "cell_type": "markdown",
      "metadata": {
        "id": "t2Qhf71Qi1aC"
      },
      "source": [
        "# Generating plots\r\n",
        "Complete the following function that shall be reused to generate line plots in subsequent sections with approporiate labels in the legend and titles.\r\n",
        "\r\n",
        "---\r\n",
        "Total for this subsection : **2 points**\r\n",
        "\r\n",
        "---\r\n",
        "\r\n",
        "\r\n",
        "\r\n"
      ]
    },
    {
      "cell_type": "code",
      "metadata": {
        "id": "uWHvvs2mrivv"
      },
      "source": [
        "def generate_line_plots(xlist1, xlist2, ylist1, ylist2, legend1, legend2,given_title):\r\n",
        "    \"\"\"\r\n",
        "    xlist1 : the list of values that form x axis in first plot\r\n",
        "    ylist1 : the list of values that form y axis in first plot\r\n",
        "    xlist2 : the list of values that form x axis in second plot\r\n",
        "    ylist2 : the list of values that form y axis in second plot\r\n",
        "    legend1 : label corresponding to first plot that will appear as its legend\r\n",
        "    legend2 : label corresponding to second plot that will appear as its legend\r\n",
        "    given_title : title for the plots\r\n",
        "    \"\"\"\r\n",
        "    # Please feel free to add additional parameters to the function definition as necessary\r\n",
        "    # But, provide description as given above to any additional parameter you add\r\n",
        "    # Please insert your code here\r\n",
        "    plt.plot(xlist1, ylist1, label=legend1)\r\n",
        "    plt.plot(xlist2, ylist2, label=legend2)\r\n",
        "    plt.title(given_title)\r\n",
        "    plt.legend();\r\n",
        "\r\n",
        "    "
      ],
      "execution_count": 103,
      "outputs": []
    },
    {
      "cell_type": "markdown",
      "metadata": {
        "id": "MVQBKen-jyxS"
      },
      "source": [
        "# Experimentation with various decision tree hyperparameters\r\n",
        "\r\n",
        "\r\n",
        "---\r\n",
        "\r\n",
        "You will be using the decision tree classifier defined in the sklearn package. You will be experimenting with various hyperparametrs that the package allows control over.\r\n",
        "\r\n",
        "## Minimum number of samples per leaf\r\n",
        "\r\n",
        "\r\n",
        "---\r\n",
        "\r\n",
        "\r\n",
        "sklearn provides a flexibility to control the growth of the decision tree by making a split occur only when more than a certain number of samples fall under each leaf. In this section, **comment** on the effect of the various values of the minimum number of samples per leaf node on the train and test set accuracy inferred from their plot.\r\n",
        "\r\n",
        "---\r\n",
        "Total for this subsection : **5 points**\r\n",
        "\r\n",
        "---\r\n",
        "\r\n",
        "\r\n",
        "\r\n"
      ]
    },
    {
      "cell_type": "code",
      "metadata": {
        "id": "vOfr3Du3qjkY",
        "colab": {
          "base_uri": "https://localhost:8080/",
          "height": 451
        },
        "outputId": "31d4940d-1f70-4589-bcc6-cb1caa43e6b4"
      },
      "source": [
        "# Experiment with various number of leaf samples\r\n",
        "\r\n",
        "num_samples = [50,100,200,500,1000]\r\n",
        "\r\n",
        "# Please insert your code here\r\n",
        "\r\n",
        "training = []\r\n",
        "testing = []\r\n",
        "\r\n",
        "for num in num_samples:\r\n",
        "    # Step 1 : Create a decision tree classifier with minimum number of samples per leaf (1 point)\r\n",
        "    clasifier = tree.DecisionTreeClassifier(criterion='entropy', splitter='best', min_samples_leaf=num)\r\n",
        "    # Step 2 : Learn the decision tree using the train set (1 point)\r\n",
        "    clasifier.fit(trainx, trainy)\r\n",
        "    # Step 3 : Compute train accuracy in % (0.5 points)\r\n",
        "    pred_x = clasifier.predict(trainx)\r\n",
        "    print(\"Train Accuracy with number of samples per leaf \", num,\" :\", 100*accuracy_score(trainy, pred_x))\r\n",
        "    training.append(100*accuracy_score(trainy, pred_x))\r\n",
        "    # Step 4 : Compute test accuracy in % (0.5 points)\r\n",
        "    pred = clasifier.predict(testx)\r\n",
        "    print(\"Test Accuracy with number of samples per leaf \", num,\" :\", 100*accuracy_score(testy, pred))\r\n",
        "    testing.append(100*accuracy_score(testy, pred))    \r\n",
        "\r\n",
        "  # Step 5 : Plot the trend of train and test accuracies as the hyperparameter varies (1 point)\r\n",
        "generate_line_plots(num_samples, num_samples, training , testing, \"Training\", \"Testing\", \"Decision Tree with diff samples per leaf\")"
      ],
      "execution_count": 104,
      "outputs": [
        {
          "output_type": "stream",
          "text": [
            "Train Accuracy with number of samples per leaf  50  : 94.88787074993972\n",
            "Test Accuracy with number of samples per leaf  50  : 94.4069431051109\n",
            "Train Accuracy with number of samples per leaf  100  : 93.10344827586206\n",
            "Test Accuracy with number of samples per leaf  100  : 92.47830279652844\n",
            "Train Accuracy with number of samples per leaf  200  : 88.738847359537\n",
            "Test Accuracy with number of samples per leaf  200  : 88.33172613307619\n",
            "Train Accuracy with number of samples per leaf  500  : 88.52182300458162\n",
            "Test Accuracy with number of samples per leaf  500  : 89.19961427193829\n",
            "Train Accuracy with number of samples per leaf  1000  : 82.58982396913432\n",
            "Test Accuracy with number of samples per leaf  1000  : 81.4850530376085\n"
          ],
          "name": "stdout"
        },
        {
          "output_type": "display_data",
          "data": {
            "image/png": "[encoded data removed]",
            "text/plain": [
              "<Figure size 432x288 with 1 Axes>"
            ]
          },
          "metadata": {
            "tags": [],
            "needs_background": "light"
          }
        }
      ]
    },
    {
      "cell_type": "markdown",
      "metadata": {
        "id": "llGsom7hl6N7"
      },
      "source": [
        "### Comments on the effect of minimum number of samples per leaf node on accuracy (1 point)\r\n",
        "\r\n",
        "---\r\n",
        "\r\n",
        "Observation:-\r\n",
        "\r\n",
        "1. Maximum accuracy observed in both Test and train data with lesser number of samples per leaf node.\r\n",
        "2. when min number of samples per leaf is increased then accuracy started to decrease till it achives constant value for some value.\r\n",
        "3. When Min number of samples per leaf is further increased, accuracies start reducing again further."
      ]
    },
    {
      "cell_type": "markdown",
      "metadata": {
        "id": "5R9Me9IYmSk6"
      },
      "source": [
        "## Maximum number of leaf nodes in the tree\r\n",
        "\r\n",
        "\r\n",
        "---\r\n",
        "\r\n",
        "\r\n",
        "sklearn provides a flexibility to control the growth of the decision tree by constraining the maximum number of leaf nodes a tree can have. In this section, **comment** on the effect of the various values of the maximum number of  leaf nodes allowed on the train and test set accuracy inferred from a plot.\r\n",
        "\r\n",
        "---\r\n",
        "Total for this subsection : **5 points**\r\n",
        "\r\n",
        "---"
      ]
    },
    {
      "cell_type": "code",
      "metadata": {
        "id": "esXciDeY1zxA",
        "colab": {
          "base_uri": "https://localhost:8080/",
          "height": 587
        },
        "outputId": "17887818-68c4-4bfd-d3c3-aa6d73f5141d"
      },
      "source": [
        "# Experiment with maximum number of leaf nodes\r\n",
        "\r\n",
        "num_leaf_nodes = [i for i in range(2,11)]\r\n",
        "\r\n",
        "# Please insert your code here\r\n",
        "training = []\r\n",
        "testing = []\r\n",
        "\r\n",
        "for num in num_leaf_nodes:\r\n",
        "    # Step 1 : Create a decision tree classifier with maximum number of leaf nodes (1 point)\r\n",
        "    clasifier = tree.DecisionTreeClassifier(criterion='entropy', splitter='best', max_leaf_nodes=num)\r\n",
        "    # Step 2 : Learn the decision tree using the train set (1 point)\r\n",
        "    clasifier.fit(trainx, trainy)\r\n",
        "    # Step 3 : Compute train accuracy in % (0.5 points)\r\n",
        "    pred_x = clasifier.predict(trainx)\r\n",
        "    print(\"Train Accuracy with\",num,\"number of leaves :\", 100*accuracy_score(trainy, pred_x))\r\n",
        "    training.append(100*accuracy_score(trainy, pred_x))\r\n",
        "    # Step 4 : Compute test accuracy in % (0.5 points)\r\n",
        "    pred = clasifier.predict(testx)\r\n",
        "    print(\"Test Accuracy with\",num,\"number of leaves :\", 100*accuracy_score(testy, pred))\r\n",
        "    testing.append(100*accuracy_score(testy, pred))   \r\n",
        " \r\n",
        "\r\n",
        "# Step 5 : Plot the trend of train and test accuracies as the hyperparameter varies (1 point)\r\n",
        "generate_line_plots(num_leaf_nodes, num_leaf_nodes, training, testing, \"Training\", \"Testing\", \"Decision Tree with diff number of leaf\")"
      ],
      "execution_count": 105,
      "outputs": [
        {
          "output_type": "stream",
          "text": [
            "Train Accuracy with 2 number of leaves : 75.76561369664819\n",
            "Test Accuracy with 2 number of leaves : 74.05978784956606\n",
            "Train Accuracy with 3 number of leaves : 87.14733542319749\n",
            "Test Accuracy with 3 number of leaves : 86.01735776277725\n",
            "Train Accuracy with 4 number of leaves : 91.31902580178442\n",
            "Test Accuracy with 4 number of leaves : 90.54966248794601\n",
            "Train Accuracy with 5 number of leaves : 92.76585483482035\n",
            "Test Accuracy with 5 number of leaves : 92.18900675024108\n",
            "Train Accuracy with 6 number of leaves : 93.10344827586206\n",
            "Test Accuracy with 6 number of leaves : 92.47830279652844\n",
            "Train Accuracy with 7 number of leaves : 93.10344827586206\n",
            "Test Accuracy with 7 number of leaves : 92.47830279652844\n",
            "Train Accuracy with 8 number of leaves : 93.7062937062937\n",
            "Test Accuracy with 8 number of leaves : 92.86403085824494\n",
            "Train Accuracy with 9 number of leaves : 93.75452134072823\n",
            "Test Accuracy with 9 number of leaves : 93.73191899710704\n",
            "Train Accuracy with 10 number of leaves : 94.67084639498434\n",
            "Test Accuracy with 10 number of leaves : 94.69623915139826\n"
          ],
          "name": "stdout"
        },
        {
          "output_type": "display_data",
          "data": {
            "image/png": "[encoded data removed]",
            "text/plain": [
              "<Figure size 432x288 with 1 Axes>"
            ]
          },
          "metadata": {
            "tags": [],
            "needs_background": "light"
          }
        }
      ]
    },
    {
      "cell_type": "markdown",
      "metadata": {
        "id": "PyA24pZPnuIT"
      },
      "source": [
        "### Comments on the effect of maximum number of leaf nodes allowed on accuracy (1 point)\r\n",
        "\r\n",
        "---\r\n",
        "\r\n",
        "Observation:\r\n",
        "1. When Number of leaf is fewer, it is observed that Accuracy at that pt is less in both train and test dataset.\r\n",
        "2. As Number of leaf nodes is increased, accuracy increases both in testing and train dataset.\r\n",
        "3. As number of leaf nodes is further increased, accuracies of both train and test dataset start attaining staturating, at till a extent both start growing more closer to each other."
      ]
    },
    {
      "cell_type": "markdown",
      "metadata": {
        "id": "hCK4VuvOn5PC"
      },
      "source": [
        "## Maximum depth of the tree\r\n",
        "\r\n",
        "\r\n",
        "---\r\n",
        "\r\n",
        "\r\n",
        "sklearn provides a flexibility to control the growth of the decision tree by constraining the maximum depth a tree can grow. In this section, **comment** on the effect of the various values of the maximum tree depth allowed on the train and test set accuracy inferred from a plot.\r\n",
        "\r\n",
        "---\r\n",
        "Total for this subsection : **5 points**\r\n",
        "\r\n",
        "---"
      ]
    },
    {
      "cell_type": "code",
      "metadata": {
        "id": "5rsyNViGC3vP",
        "colab": {
          "base_uri": "https://localhost:8080/",
          "height": 621
        },
        "outputId": "455fda53-74fc-4097-d726-2a3edb058da6"
      },
      "source": [
        "# Experiment with varied tree depths\r\n",
        "\r\n",
        "tree_depths = [i for i in range(1,11)]\r\n",
        "\r\n",
        "# Please insert your code here\r\n",
        "\r\n",
        "training = []\r\n",
        "testing = []\r\n",
        "\r\n",
        "for depth in tree_depths:\r\n",
        "    # Step 1 : Create a decision tree classifier with maximum tree depth (1 point)\r\n",
        "    clasifier = tree.DecisionTreeClassifier(criterion='entropy', splitter='best',  max_depth=depth)\r\n",
        "\r\n",
        "    # Step 2 : Learn the decision tree using the train set (1 point)\r\n",
        "    clasifier.fit(trainx, trainy)\r\n",
        "\r\n",
        "    # Step 3 : Compute train accuracy in % (0.5 points)\r\n",
        "    pred_x = clasifier.predict(trainx)\r\n",
        "    print(\"Train Accuracy with tree depth\",depth,\":\", 100*accuracy_score(trainy, pred_x))\r\n",
        "    training.append(100*accuracy_score(trainy, pred_x))\r\n",
        "    # Step 4 : Compute test accuracy in % (0.5 points)\r\n",
        "    pred = clasifier.predict(testx)\r\n",
        "    print(\"Test Accuracy with tree depth\",depth,\":\", 100*accuracy_score(testy, pred))  \r\n",
        "    testing.append(100*accuracy_score(testy, pred))\r\n",
        "      \r\n",
        "\r\n",
        "# Step 5 : Plot the trend of train and test accuracies as the hyperparameter varies (1 point)\r\n",
        "generate_line_plots(tree_depths, tree_depths, training, testing, \"Training\", \"Testing\", \"Decision Tree with diff Max depth of tree\")"
      ],
      "execution_count": 106,
      "outputs": [
        {
          "output_type": "stream",
          "text": [
            "Train Accuracy with tree depth 1 : 75.76561369664819\n",
            "Test Accuracy with tree depth 1 : 74.05978784956606\n",
            "Train Accuracy with tree depth 2 : 87.48492886423921\n",
            "Test Accuracy with tree depth 2 : 86.3066538090646\n",
            "Train Accuracy with tree depth 3 : 92.57294429708223\n",
            "Test Accuracy with tree depth 3 : 91.80327868852459\n",
            "Train Accuracy with tree depth 4 : 94.14034241620448\n",
            "Test Accuracy with tree depth 4 : 93.34619093539055\n",
            "Train Accuracy with tree depth 5 : 94.93609838437425\n",
            "Test Accuracy with tree depth 5 : 94.21407907425265\n",
            "Train Accuracy with tree depth 6 : 96.31058596575838\n",
            "Test Accuracy with tree depth 6 : 95.66055930568949\n",
            "Train Accuracy with tree depth 7 : 97.39570774053533\n",
            "Test Accuracy with tree depth 7 : 96.81774349083896\n",
            "Train Accuracy with tree depth 8 : 97.87798408488064\n",
            "Test Accuracy with tree depth 8 : 97.20347155255546\n",
            "Train Accuracy with tree depth 9 : 98.31203279479142\n",
            "Test Accuracy with tree depth 9 : 96.91417550626808\n",
            "Train Accuracy with tree depth 10 : 98.93899204244032\n",
            "Test Accuracy with tree depth 10 : 96.72131147540983\n"
          ],
          "name": "stdout"
        },
        {
          "output_type": "display_data",
          "data": {
            "image/png": "[encoded data removed]",
            "text/plain": [
              "<Figure size 432x288 with 1 Axes>"
            ]
          },
          "metadata": {
            "tags": [],
            "needs_background": "light"
          }
        }
      ]
    },
    {
      "cell_type": "markdown",
      "metadata": {
        "id": "wLbsV82YoRx6"
      },
      "source": [
        "### Comments on the effect of maximum tree depth allowed on accuracy (1 point)\r\n",
        "\r\n",
        "---\r\n",
        "\r\n",
        "Observation:\r\n",
        "1. When depth of the Decision tree is short, Accuracies in both test and train is observed low.\r\n",
        "2. With increasing max allowed depth of decision tree, accuracy in both test and train dataset increases.\r\n",
        "3. Further Accuracy of Train Dataset start attending staturatin with 100% accuracy\r\n",
        "4. But with increasing Depth of Tree, when depth reach a certain level, accuracy in test data stat start decreasing.[Like Overfitting]"
      ]
    },
    {
      "cell_type": "markdown",
      "metadata": {
        "id": "D6-gCLmppzxM"
      },
      "source": [
        "# Random Forest\r\n",
        "\r\n",
        "---\r\n",
        "\r\n",
        "In this section we will explore the power of ensembles via the Random Forest classifier. We will use the sklearn package's random forest ensemble and study the effect of its hyperparameters on the model performance.\r\n",
        "\r\n",
        "## Instance Bagging\r\n",
        "\r\n",
        "\r\n",
        "---\r\n",
        "\r\n",
        "\r\n",
        "\r\n",
        "To build an ensemble of different trees, a subset of instances are chosen. sklearn provides the flexibility to control the maximum number of instances a subset can have. In this section,  **comment** on the effect of the various values of the maximum number of samples per subset on the train and test set accuracy inferred from their plot.\r\n",
        "\r\n",
        "\r\n",
        "---\r\n",
        "Total for this subsection : **5 points**\r\n",
        "\r\n",
        "---\r\n",
        "\r\n",
        "\r\n",
        "\r\n"
      ]
    },
    {
      "cell_type": "code",
      "metadata": {
        "id": "F4Z3Kl_ovEhk",
        "colab": {
          "base_uri": "https://localhost:8080/",
          "height": 451
        },
        "outputId": "ea840ac3-6ee0-4aba-f1a2-281b9da470c7"
      },
      "source": [
        "# Instance bagging\r\n",
        "\r\n",
        "num_instances = [100,150,200,250,300]\r\n",
        "\r\n",
        "# Please insert your code here\r\n",
        "\r\n",
        "training = []\r\n",
        "testing = []\r\n",
        "\r\n",
        "for num in num_instances:\r\n",
        "    # Step 1 : Create a decision tree classifier with maximum number of instances in a subset (1 point)\r\n",
        "    rf = RandomForestClassifier(max_samples=num, criterion='entropy')\r\n",
        "\r\n",
        "    # Step 2 : Learn the decision tree using the train set (1 point)\r\n",
        "    rf.fit(trainx, trainy)\r\n",
        "\r\n",
        "    # Step 3 : Compute train accuracy in % (0.5 points)\r\n",
        "    pred_x = rf.predict(trainx)\r\n",
        "    print(\"Train Accuracy with num_instances\",num,\":\", 100*accuracy_score(trainy, pred_x))\r\n",
        "    training.append(100*accuracy_score(trainy, pred_x))\r\n",
        "    # Step 4 : Compute test accuracy in % (0.5 points)\r\n",
        "    pred = rf.predict(testx)\r\n",
        "    print(\"Test Accuracy with num instances\",num,\":\", 100*accuracy_score(testy, pred)) \r\n",
        "    testing.append(100*accuracy_score(testy, pred)) \r\n",
        "\r\n",
        "# Step 5 : Plot the trend of train and test accuracies as the hyperparameter varies (1 point)\r\n",
        "generate_line_plots(num_instances, num_instances, training, testing, \"Training\", \"Testing\", \"Random Forest Tree with instance Bagging\")"
      ],
      "execution_count": 107,
      "outputs": [
        {
          "output_type": "stream",
          "text": [
            "Train Accuracy with num_instances 100 : 95.12900892211236\n",
            "Test Accuracy with num instances 100 : 94.69623915139826\n",
            "Train Accuracy with num_instances 150 : 95.34603327706776\n",
            "Test Accuracy with num instances 150 : 95.66055930568949\n",
            "Train Accuracy with num_instances 200 : 96.28647214854111\n",
            "Test Accuracy with num instances 200 : 96.23915139826423\n",
            "Train Accuracy with num_instances 250 : 96.47938268627924\n",
            "Test Accuracy with num instances 250 : 96.81774349083896\n",
            "Train Accuracy with num_instances 300 : 96.59995177236557\n",
            "Test Accuracy with num instances 300 : 96.23915139826423\n"
          ],
          "name": "stdout"
        },
        {
          "output_type": "display_data",
          "data": {
            "image/png": "[encoded data removed]",
            "text/plain": [
              "<Figure size 432x288 with 1 Axes>"
            ]
          },
          "metadata": {
            "tags": [],
            "needs_background": "light"
          }
        }
      ]
    },
    {
      "cell_type": "markdown",
      "metadata": {
        "id": "frj1Z6Yb0FzP"
      },
      "source": [
        "### Comments on the effect of maximum number of instances allowed on accuracy (1 point)\r\n",
        "\r\n",
        "---\r\n",
        "\r\n",
        "Observation:\r\n",
        "1. Accuracy in Random forest is observed high with respect to normal Decision tree classifier.\r\n",
        "2. As Number of instances increases, accuracy in both Training and Testing dataset increases.\r\n",
        "3. When Number of instances are few, Training Dataset accuracy is higher then of Test, but as number of instances increases, accuracy of test dataset start increasing rapidly nearly catching training dataset accuracy and may become nearly equal."
      ]
    },
    {
      "cell_type": "markdown",
      "metadata": {
        "id": "Hit94dYQ0MeF"
      },
      "source": [
        "## Feature Bagging\r\n",
        "\r\n",
        "\r\n",
        "---\r\n",
        "\r\n",
        "\r\n",
        "\r\n",
        "To build an ensemble of different trees, a subset of features are chosen. sklearn provides the flexibility to control the maximum number of features a subset can have. In this section,  **comment** on the effect of the various values of the maximum number of features per subset on the train and test set accuracy inferred from their plot.\r\n",
        "\r\n",
        "\r\n",
        "---\r\n",
        "Total for this subsection : **5 points**\r\n",
        "\r\n",
        "---"
      ]
    },
    {
      "cell_type": "code",
      "metadata": {
        "id": "CFardPZn0ho-",
        "colab": {
          "base_uri": "https://localhost:8080/",
          "height": 451
        },
        "outputId": "41424bc5-57ed-48a6-e66a-c6c5659e8cd9"
      },
      "source": [
        "# Feature bagging\r\n",
        "\r\n",
        "num_features = [10,20,30,40,50]\r\n",
        "\r\n",
        "# Please insert your code here\r\n",
        "\r\n",
        "training = []\r\n",
        "testing = []\r\n",
        "\r\n",
        "for num in num_features:\r\n",
        "    # Step 1 : Create a decision tree classifier with maximum number of features in a subset (1 point)\r\n",
        "    rf = RandomForestClassifier(max_features=num, criterion='entropy')\r\n",
        "    # Step 2 : Learn the decision tree using the train set (1 point)\r\n",
        "    rf.fit(trainx, trainy)\r\n",
        "    # Step 3 : Compute train accuracy in % (0.5 points)\r\n",
        "    pred_x = rf.predict(trainx)\r\n",
        "    print(\"Train Accuracy with num_features\",num,\":\", 100*accuracy_score(trainy, pred_x))\r\n",
        "    training.append(100*accuracy_score(trainy, pred_x))\r\n",
        "    # Step 4 : Compute test accuracy in % (0.5 points)\r\n",
        "    pred = rf.predict(testx)\r\n",
        "    print(\"Test Accuracy with num_features\",num,\":\", 100*accuracy_score(testy, pred))  \r\n",
        "    testing.append(100*accuracy_score(testy, pred)) \r\n",
        "      \r\n",
        "\r\n",
        "# Step 5 : Plot the trend of train and test accuracies as the hyperparameter varies (1 point)\r\n",
        "generate_line_plots(num_features, num_features, training, testing, \"Training\", \"Testing\", \"Random Forest Tree with feature bagging\")"
      ],
      "execution_count": 108,
      "outputs": [
        {
          "output_type": "stream",
          "text": [
            "Train Accuracy with num_features 10 : 100.0\n",
            "Test Accuracy with num_features 10 : 98.84281581485052\n",
            "Train Accuracy with num_features 20 : 100.0\n",
            "Test Accuracy with num_features 20 : 98.64995178399228\n",
            "Train Accuracy with num_features 30 : 100.0\n",
            "Test Accuracy with num_features 30 : 98.55351976856316\n",
            "Train Accuracy with num_features 40 : 100.0\n",
            "Test Accuracy with num_features 40 : 98.55351976856316\n",
            "Train Accuracy with num_features 50 : 100.0\n",
            "Test Accuracy with num_features 50 : 98.55351976856316\n"
          ],
          "name": "stdout"
        },
        {
          "output_type": "display_data",
          "data": {
            "image/png": "[encoded data removed]",
            "text/plain": [
              "<Figure size 432x288 with 1 Axes>"
            ]
          },
          "metadata": {
            "tags": [],
            "needs_background": "light"
          }
        }
      ]
    },
    {
      "cell_type": "markdown",
      "metadata": {
        "id": "jpNm-GMx1EpP"
      },
      "source": [
        "### Comments on the effect of maximum number of features allowed on accuracy (1 point) \r\n",
        "\r\n",
        "---\r\n",
        "\r\n",
        "1. In random forest with feature, Accuracy of train dataset observed is exceptionally high ie near to 1.\r\n",
        "2. Accuracy in test dataset is also observed to be high but less than train dataset. \r\n",
        "3. Testing Accuracy slightly decrease with increasing number of features allowed.\r\n",
        "4. Improvement of Instance Bagging."
      ]
    },
    {
      "cell_type": "markdown",
      "metadata": {
        "id": "b2Z73hel1ohH"
      },
      "source": [
        "## Number of trees in the ensemble\r\n",
        "\r\n",
        "\r\n",
        "---\r\n",
        "In this section, we will explore the flexibilitity to control the number of decision trees that can be a part of the Random Forest ensemble. **Comment** on the effect of the various values of the maximum number of features per subset on the train and test set accuracy inferred from their plot.\r\n",
        "\r\n",
        "\r\n",
        "---\r\n",
        "Total for this subsection : **5 points**\r\n",
        "\r\n",
        "---\r\n"
      ]
    },
    {
      "cell_type": "code",
      "metadata": {
        "id": "gQX2OQYj2G14",
        "colab": {
          "base_uri": "https://localhost:8080/",
          "height": 451
        },
        "outputId": "e0a69abb-0ea6-43fe-917f-4205713ea55a"
      },
      "source": [
        "num_trees = [2,5,10,25,50]\r\n",
        "\r\n",
        "# Please insert your code here\r\n",
        "\r\n",
        "training = []\r\n",
        "testing = []\r\n",
        "\r\n",
        "for num in num_trees:\r\n",
        "    # Step 1 : Create a decision tree classifier with the given number of trees in an ensemble (1 point)\r\n",
        "    rf = RandomForestClassifier(n_estimators=num, criterion='entropy')\r\n",
        "    # Step 2 : Learn the decision tree using the train set (1 point)\r\n",
        "    rf.fit(trainx, trainy)\r\n",
        "    # Step 3 : Compute train accuracy in % (0.5 points)\r\n",
        "    pred_x = rf.predict(trainx)\r\n",
        "    print(\"Train Accuracy with number of tree\",num,\":\", 100*accuracy_score(trainy, pred_x))\r\n",
        "    training.append(100*accuracy_score(trainy, pred_x))\r\n",
        "    # Step 4 : Compute test accuracy in % (0.5 points)\r\n",
        "    pred = rf.predict(testx)\r\n",
        "    print(\"Test Accuracy with number of tree\",num,\":\", 100*accuracy_score(testy, pred))  \r\n",
        "    testing.append(100*accuracy_score(testy, pred)) \r\n",
        "\r\n",
        "# Step 5 : Plot the trend of train and test accuracies as the hyperparameter varies (1 point)\r\n",
        "generate_line_plots(num_trees, num_trees, training, testing, \"Training\", \"Testing\", \"Random Forest tree with different number of trees in ensemble\")"
      ],
      "execution_count": 109,
      "outputs": [
        {
          "output_type": "stream",
          "text": [
            "Train Accuracy with number of tree 2 : 98.55317096696406\n",
            "Test Accuracy with number of tree 2 : 95.66055930568949\n",
            "Train Accuracy with number of tree 5 : 99.80708946226187\n",
            "Test Accuracy with number of tree 5 : 98.16779170684667\n",
            "Train Accuracy with number of tree 10 : 99.97588618278273\n",
            "Test Accuracy with number of tree 10 : 98.07135969141754\n",
            "Train Accuracy with number of tree 25 : 99.95177236556547\n",
            "Test Accuracy with number of tree 25 : 98.45708775313405\n",
            "Train Accuracy with number of tree 50 : 100.0\n",
            "Test Accuracy with number of tree 50 : 98.45708775313405\n"
          ],
          "name": "stdout"
        },
        {
          "output_type": "display_data",
          "data": {
            "image/png": "[encoded data removed]",
            "text/plain": [
              "<Figure size 432x288 with 1 Axes>"
            ]
          },
          "metadata": {
            "tags": [],
            "needs_background": "light"
          }
        }
      ]
    },
    {
      "cell_type": "markdown",
      "metadata": {
        "id": "GQNYlEZj7Fqh"
      },
      "source": [
        "### Comments on the effect of maximum number of trees allowed on accuracy (1 point) \r\n",
        "\r\n",
        "---\r\n",
        "\r\n",
        "Observation:\r\n",
        "1. Train dataset accuracy is near to 1 when high number of tree are allowed.\r\n",
        "2. As number of tree allowed increases, accuracy of both train and test datast increases.\r\n",
        "3. Overfitting generally is not observed.\r\n"
      ]
    },
    {
      "cell_type": "markdown",
      "metadata": {
        "id": "MpUhK5-T9VhL"
      },
      "source": [
        "# Logistic Regression\r\n",
        "\r\n",
        "---\r\n",
        "\r\n",
        "In this section we will apply logistic regression to classify whether malware is present or not. We will experiment with a few hyperparameters that can be flexibly tuned in the sklearn package.\r\n",
        "\r\n",
        "## Effect of regulaization\r\n",
        "\r\n",
        "\r\n",
        "---\r\n",
        "Points for this subsection : **5 points**\r\n",
        "\r\n",
        "\r\n",
        "---\r\n",
        "\r\n",
        "In the course, we have studied two types of regularization based on the norm applied, namely L1 and L2 regularization. **Comment** on the effect of regularization applied on the accuracy based on suitable plots.\r\n",
        "\r\n"
      ]
    },
    {
      "cell_type": "code",
      "metadata": {
        "id": "XnuLm2gRRQ8M",
        "colab": {
          "base_uri": "https://localhost:8080/",
          "height": 383
        },
        "outputId": "49450280-68e8-4170-9e8b-a9570804afee"
      },
      "source": [
        "regularization_types = ['none','l1','l2']\r\n",
        "\r\n",
        "# Please insert your code here\r\n",
        "training = []\r\n",
        "testing = []\r\n",
        "\r\n",
        "for reg_type in regularization_types:\r\n",
        "    # Step 1 : Create a logistic regression classifier with the given regularization type (1 point)\r\n",
        "    lr = LogisticRegression(penalty=reg_type, solver='saga', max_iter=10000)\r\n",
        "    # Step 2 : Learn the decision tree using the train set (1 point)\r\n",
        "    lr.fit(trainx, trainy)\r\n",
        "    # Step 3 : Compute train accuracy in % (0.5 points)\r\n",
        "    pred_x = lr.predict(trainx)\r\n",
        "    print(\"Train Accuracy with regularization type\", reg_type,\":\", 100*accuracy_score(trainy, pred_x))\r\n",
        "    training.append(100*accuracy_score(trainy, pred_x))\r\n",
        "    # Step 4 : Compute test accuracy in % (0.5 points)\r\n",
        "    pred = lr.predict(testx)\r\n",
        "    print(\"Test Accuracy with regularization type\", reg_type,\":\", 100*accuracy_score(testy, pred))  \r\n",
        "    testing.append(100*accuracy_score(testy, pred)) \r\n",
        "    \r\n",
        "\r\n",
        "# Step 5 : Plot the trend of train and test accuracies as the hyperparameter varies (1 point)\r\n",
        "generate_line_plots(regularization_types, regularization_types, training, testing, \"Training\", \"Testing\", \"Logistic Regression with effect of different regularization type\")"
      ],
      "execution_count": 110,
      "outputs": [
        {
          "output_type": "stream",
          "text": [
            "Train Accuracy with regularization type none : 74.41523993248131\n",
            "Test Accuracy with regularization type none : 73.8669238187078\n",
            "Train Accuracy with regularization type l1 : 74.41523993248131\n",
            "Test Accuracy with regularization type l1 : 73.8669238187078\n",
            "Train Accuracy with regularization type l2 : 74.41523993248131\n",
            "Test Accuracy with regularization type l2 : 73.8669238187078\n"
          ],
          "name": "stdout"
        },
        {
          "output_type": "display_data",
          "data": {
            "image/png": "[encoded data removed]",
            "text/plain": [
              "<Figure size 432x288 with 1 Axes>"
            ]
          },
          "metadata": {
            "tags": [],
            "needs_background": "light"
          }
        }
      ]
    },
    {
      "cell_type": "markdown",
      "metadata": {
        "id": "aatefb27TxCV"
      },
      "source": [
        "### Comments on the effect of regularization type on accuracy (1 point) \r\n",
        "\r\n",
        "---\r\n",
        "\r\n",
        "Observation:\r\n",
        "1. Computationally Regularization took large type training and predicting the model.\r\n",
        "2. I had to change maxiter to 10,000 for achieving it.\r\n",
        "3. Both regularization produces similar result with solver = *saga* \r\n",
        "4. No overfitting was observed.\r\n",
        "5. In comparison to decision tree, accuracy of logistic regression is observed lower."
      ]
    },
    {
      "cell_type": "markdown",
      "metadata": {
        "id": "MvciO1LQT2Sz"
      },
      "source": [
        "## Effect of regularization weight\r\n",
        "\r\n",
        "\r\n",
        "---\r\n",
        "sklearn applies L2 regularization on its logistic regression classifier by default. There is a flexibility to tune the weight applied to this regularization term. In this section, **comment** on the effect of different values of the regularization weight parameter on the accuracy as inferred from their plot.\r\n",
        "\r\n",
        "\r\n",
        "---\r\n",
        "\r\n",
        "Total for this subsection : **5 points**\r\n",
        "\r\n",
        "---\r\n",
        "\r\n",
        "\r\n",
        "\r\n",
        "\r\n"
      ]
    },
    {
      "cell_type": "code",
      "metadata": {
        "id": "r08ArVH0T5Ci",
        "colab": {
          "base_uri": "https://localhost:8080/",
          "height": 451
        },
        "outputId": "1b0d8eff-fe53-4499-ccac-b6c37274bce3"
      },
      "source": [
        "regularization_wts = [0.1,0.5,1,2,10]\r\n",
        "\r\n",
        "# Please insert your code here\r\n",
        "\r\n",
        "training = []\r\n",
        "testing = []\r\n",
        "\r\n",
        "\r\n",
        "for wt in regularization_wts:\r\n",
        "    # Step 1 : Create a logistic regression classifier with the given regularization weight (1 point)\r\n",
        "    lr = LogisticRegression(C=wt, max_iter=10000)\r\n",
        "    # Step 2 : Learn the decision tree using the train set (1 point)\r\n",
        "    lr.fit(trainx, trainy)\r\n",
        "    # Step 3 : Compute train accuracy in % (0.5 points)\r\n",
        "    pred_x = lr.predict(trainx)\r\n",
        "    print(\"Train Accuracy with regularization wt\",wt,\" :\", 100*accuracy_score(trainy, pred_x))\r\n",
        "    training.append(100*accuracy_score(trainy, pred_x))\r\n",
        "    # Step 4 : Compute test accuracy in % (0.5 points)\r\n",
        "    pred = lr.predict(testx)\r\n",
        "    print(\"Test Accuracy with regularization wt\",wt,\" :\", 100*accuracy_score(testy, pred))  \r\n",
        "    testing.append(100*accuracy_score(testy, pred)) \r\n",
        "\r\n",
        "# Step 5 : Plot the trend of train and test accuracies as the hyperparameter varies (1 point)\r\n",
        "generate_line_plots(regularization_wts, regularization_wts, training, testing, \"Training\", \"Testing\", \"Logistic Regression with Effects of Regularization weight\")"
      ],
      "execution_count": 111,
      "outputs": [
        {
          "output_type": "stream",
          "text": [
            "Train Accuracy with regularization wt 0.1  : 89.43814805883773\n",
            "Test Accuracy with regularization wt 0.1  : 89.87463837994214\n",
            "Train Accuracy with regularization wt 0.5  : 89.8721967687485\n",
            "Test Accuracy with regularization wt 0.5  : 89.77820636451301\n",
            "Train Accuracy with regularization wt 1  : 89.55871714492403\n",
            "Test Accuracy with regularization wt 1  : 89.10318225650916\n",
            "Train Accuracy with regularization wt 2  : 89.7998553170967\n",
            "Test Accuracy with regularization wt 2  : 89.87463837994214\n",
            "Train Accuracy with regularization wt 10  : 89.53460332770678\n",
            "Test Accuracy with regularization wt 10  : 89.97107039537127\n"
          ],
          "name": "stdout"
        },
        {
          "output_type": "display_data",
          "data": {
            "image/png": "[encoded data removed]",
            "text/plain": [
              "<Figure size 432x288 with 1 Axes>"
            ]
          },
          "metadata": {
            "tags": [],
            "needs_background": "light"
          }
        }
      ]
    },
    {
      "cell_type": "markdown",
      "metadata": {
        "id": "hbO0hiyYVX9e"
      },
      "source": [
        "### Comments on the effect of regularization weights on accuracy (1 point) \r\n",
        "\r\n",
        "---\r\n",
        "\r\n",
        "Observation:\r\n",
        "1. When weights of regularization is low, accuracy of Train Dataset is higher then test,  but as regularization weight increase, Accuracy of Test dataset(Out of Bound or OOB dataset) increases over training dataset.\r\n",
        "2. Improvement when not using regularization weights."
      ]
    }
  ]
}